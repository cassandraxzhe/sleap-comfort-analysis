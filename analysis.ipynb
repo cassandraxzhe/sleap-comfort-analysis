{
 "cells": [
  {
   "cell_type": "markdown",
   "id": "0a81b502",
   "metadata": {},
   "source": [
    "# SLEAP Comfort Study Analysis Notebook\n",
    "This notebook is designed to analyze data from the comfort study sessions by calculating stance time based on data collected from SLEAP inference. Code in this notebook has been adapted from the SLEAP colabs for the purposes of this experiment.\n",
    "\n",
    "## Files\n",
    "All HDF5 files should be saved to the ./files folder"
   ]
  },
  {
   "cell_type": "code",
   "execution_count": null,
   "id": "5982cc2c",
   "metadata": {},
   "outputs": [],
   "source": [
    "from analysis import SLEAP_Analysis"
   ]
  },
  {
   "cell_type": "code",
   "execution_count": null,
   "id": "de87056b",
   "metadata": {},
   "outputs": [],
   "source": [
    "# default values\n",
    "framerate = 24\n",
    "threshold = 1\n",
    "\n",
    "start = 0 # TODO: update this to reflect the correct starting frame\n",
    "end = 1000 # TODO: update this to reflect the correct starting frame\n",
    "\n",
    "# filename of h5 file\n",
    "filename = \"\""
   ]
  },
  {
   "cell_type": "markdown",
   "id": "1b55a043",
   "metadata": {},
   "source": [
    "## Analyze the file"
   ]
  },
  {
   "cell_type": "code",
   "execution_count": null,
   "id": "e40f7090",
   "metadata": {},
   "outputs": [],
   "source": [
    "session_name = SLEAP_Analysis(f\"files/{filename}\", start, end, framerate, threshold)\n",
    "print(session_name.analyze()) # TODO this some bs"
   ]
  }
 ],
 "metadata": {
  "kernelspec": {
   "display_name": "sleap-comfort-analysis-venv",
   "language": "python",
   "name": "python3"
  },
  "language_info": {
   "name": "python",
   "version": "3.12.10"
  }
 },
 "nbformat": 4,
 "nbformat_minor": 5
}
