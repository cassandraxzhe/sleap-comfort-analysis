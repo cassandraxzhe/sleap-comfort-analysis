{
 "cells": [
  {
   "cell_type": "markdown",
   "id": "0a81b502",
   "metadata": {},
   "source": [
    "# SLEAP Comfort Study Analysis Notebook\n",
    "This notebook is designed to analyze data from the comfort study sessions by calculating stance time based on data collected from SLEAP inference. Code in this notebook has been adapted from the SLEAP colabs for the purposes of this experiment.\n",
    "\n",
    "## Files\n",
    "All HDF5 files should be saved to the ./files folder"
   ]
  },
  {
   "cell_type": "code",
   "execution_count": 1,
   "id": "5982cc2c",
   "metadata": {},
   "outputs": [
    {
     "name": "stderr",
     "output_type": "stream",
     "text": [
      "Matplotlib is building the font cache; this may take a moment.\n"
     ]
    }
   ],
   "source": [
    "from analysis import SLEAP_Analysis"
   ]
  },
  {
   "cell_type": "code",
   "execution_count": 2,
   "id": "de87056b",
   "metadata": {},
   "outputs": [],
   "source": [
    "# default values\n",
    "framerate = 24\n",
    "threshold = 1\n",
    "\n",
    "start = 0 # TODO: update this to reflect the correct starting frame\n",
    "end = 1000 # TODO: update this to reflect the correct starting frame\n",
    "\n",
    "# filename of h5 file\n",
    "filename = \"\""
   ]
  },
  {
   "cell_type": "markdown",
   "id": "1b55a043",
   "metadata": {},
   "source": [
    "## Analyze the file"
   ]
  },
  {
   "cell_type": "code",
   "execution_count": 5,
   "id": "e40f7090",
   "metadata": {},
   "outputs": [
    {
     "ename": "IsADirectoryError",
     "evalue": "[Errno 21] Unable to synchronously open file (file read failed: time = Mon May 26 16:52:11 2025\n, filename = 'files/', file descriptor = 73, errno = 21, error message = 'Is a directory', buf = 0x16ee645d0, total read size = 8, bytes this sub-read = 8, offset = 0)",
     "output_type": "error",
     "traceback": [
      "\u001b[31m---------------------------------------------------------------------------\u001b[39m",
      "\u001b[31mIsADirectoryError\u001b[39m                         Traceback (most recent call last)",
      "\u001b[36mCell\u001b[39m\u001b[36m \u001b[39m\u001b[32mIn[5]\u001b[39m\u001b[32m, line 1\u001b[39m\n\u001b[32m----> \u001b[39m\u001b[32m1\u001b[39m session_name = \u001b[43mSLEAP_Analysis\u001b[49m\u001b[43m(\u001b[49m\u001b[33;43mf\u001b[39;49m\u001b[33;43m\"\u001b[39;49m\u001b[33;43mfiles/\u001b[39;49m\u001b[38;5;132;43;01m{\u001b[39;49;00m\u001b[43mfilename\u001b[49m\u001b[38;5;132;43;01m}\u001b[39;49;00m\u001b[33;43m\"\u001b[39;49m\u001b[43m,\u001b[49m\u001b[43m \u001b[49m\u001b[43mstart\u001b[49m\u001b[43m,\u001b[49m\u001b[43m \u001b[49m\u001b[43mend\u001b[49m\u001b[43m,\u001b[49m\u001b[43m \u001b[49m\u001b[43mframerate\u001b[49m\u001b[43m,\u001b[49m\u001b[43m \u001b[49m\u001b[43mthreshold\u001b[49m\u001b[43m)\u001b[49m\n\u001b[32m      2\u001b[39m data = session_name.analyze()\n\u001b[32m      3\u001b[39m \u001b[38;5;28mprint\u001b[39m(data[\u001b[33m'\u001b[39m\u001b[33mlgaitdown\u001b[39m\u001b[33m'\u001b[39m]) \u001b[38;5;66;03m# TODO this some bs\u001b[39;00m\n",
      "\u001b[36mFile \u001b[39m\u001b[32m~/Documents/Biomech/sleap-comfort-analysis/analysis.py:30\u001b[39m, in \u001b[36mSLEAP_Analysis.__init__\u001b[39m\u001b[34m(self, filename, start_frame, end_frame, framerate, threshold, subject, group, session)\u001b[39m\n\u001b[32m     27\u001b[39m \u001b[38;5;28mself\u001b[39m.session = session\n\u001b[32m     29\u001b[39m \u001b[38;5;66;03m# Load the SLEAP data from the specified file\u001b[39;00m\n\u001b[32m---> \u001b[39m\u001b[32m30\u001b[39m \u001b[38;5;28mself\u001b[39m.dset_names, \u001b[38;5;28mself\u001b[39m.locations, \u001b[38;5;28mself\u001b[39m.node_names = \u001b[38;5;28;43mself\u001b[39;49m\u001b[43m.\u001b[49m\u001b[43mopen_file\u001b[49m\u001b[43m(\u001b[49m\u001b[43m)\u001b[49m\n\u001b[32m     31\u001b[39m \u001b[38;5;28mprint\u001b[39m(\u001b[33m\"\u001b[39m\u001b[38;5;130;01m\\n\u001b[39;00m\u001b[33m===filename===\u001b[39m\u001b[33m\"\u001b[39m)\n\u001b[32m     32\u001b[39m \u001b[38;5;28mprint\u001b[39m(\u001b[38;5;28mself\u001b[39m.filename)\n",
      "\u001b[36mFile \u001b[39m\u001b[32m~/Documents/Biomech/sleap-comfort-analysis/analysis.py:56\u001b[39m, in \u001b[36mSLEAP_Analysis.open_file\u001b[39m\u001b[34m(self)\u001b[39m\n\u001b[32m     48\u001b[39m \u001b[38;5;28;01mdef\u001b[39;00m\u001b[38;5;250m \u001b[39m\u001b[34mopen_file\u001b[39m(\u001b[38;5;28mself\u001b[39m):\n\u001b[32m     49\u001b[39m \u001b[38;5;250m    \u001b[39m\u001b[33;03m\"\"\"\u001b[39;00m\n\u001b[32m     50\u001b[39m \u001b[33;03m    Reads h5 file data.\u001b[39;00m\n\u001b[32m     51\u001b[39m \n\u001b[32m   (...)\u001b[39m\u001b[32m     54\u001b[39m \n\u001b[32m     55\u001b[39m \u001b[33;03m    \"\"\"\u001b[39;00m\n\u001b[32m---> \u001b[39m\u001b[32m56\u001b[39m     \u001b[38;5;28;01mwith\u001b[39;00m \u001b[43mh5py\u001b[49m\u001b[43m.\u001b[49m\u001b[43mFile\u001b[49m\u001b[43m(\u001b[49m\u001b[38;5;28;43mself\u001b[39;49m\u001b[43m.\u001b[49m\u001b[43mfilename\u001b[49m\u001b[43m,\u001b[49m\u001b[43m \u001b[49m\u001b[33;43m\"\u001b[39;49m\u001b[33;43mr\u001b[39;49m\u001b[33;43m\"\u001b[39;49m\u001b[43m)\u001b[49m \u001b[38;5;28;01mas\u001b[39;00m f:\n\u001b[32m     57\u001b[39m         dset_names = \u001b[38;5;28mlist\u001b[39m(f.keys())\n\u001b[32m     58\u001b[39m         \u001b[38;5;66;03m# print(dset_names)\u001b[39;00m\n",
      "\u001b[36mFile \u001b[39m\u001b[32m~/Documents/Biomech/sleap-comfort-analysis/.conda/lib/python3.11/site-packages/h5py/_hl/files.py:561\u001b[39m, in \u001b[36mFile.__init__\u001b[39m\u001b[34m(self, name, mode, driver, libver, userblock_size, swmr, rdcc_nslots, rdcc_nbytes, rdcc_w0, track_order, fs_strategy, fs_persist, fs_threshold, fs_page_size, page_buf_size, min_meta_keep, min_raw_keep, locking, alignment_threshold, alignment_interval, meta_block_size, **kwds)\u001b[39m\n\u001b[32m    552\u001b[39m     fapl = make_fapl(driver, libver, rdcc_nslots, rdcc_nbytes, rdcc_w0,\n\u001b[32m    553\u001b[39m                      locking, page_buf_size, min_meta_keep, min_raw_keep,\n\u001b[32m    554\u001b[39m                      alignment_threshold=alignment_threshold,\n\u001b[32m    555\u001b[39m                      alignment_interval=alignment_interval,\n\u001b[32m    556\u001b[39m                      meta_block_size=meta_block_size,\n\u001b[32m    557\u001b[39m                      **kwds)\n\u001b[32m    558\u001b[39m     fcpl = make_fcpl(track_order=track_order, fs_strategy=fs_strategy,\n\u001b[32m    559\u001b[39m                      fs_persist=fs_persist, fs_threshold=fs_threshold,\n\u001b[32m    560\u001b[39m                      fs_page_size=fs_page_size)\n\u001b[32m--> \u001b[39m\u001b[32m561\u001b[39m     fid = \u001b[43mmake_fid\u001b[49m\u001b[43m(\u001b[49m\u001b[43mname\u001b[49m\u001b[43m,\u001b[49m\u001b[43m \u001b[49m\u001b[43mmode\u001b[49m\u001b[43m,\u001b[49m\u001b[43m \u001b[49m\u001b[43muserblock_size\u001b[49m\u001b[43m,\u001b[49m\u001b[43m \u001b[49m\u001b[43mfapl\u001b[49m\u001b[43m,\u001b[49m\u001b[43m \u001b[49m\u001b[43mfcpl\u001b[49m\u001b[43m,\u001b[49m\u001b[43m \u001b[49m\u001b[43mswmr\u001b[49m\u001b[43m=\u001b[49m\u001b[43mswmr\u001b[49m\u001b[43m)\u001b[49m\n\u001b[32m    563\u001b[39m \u001b[38;5;28;01mif\u001b[39;00m \u001b[38;5;28misinstance\u001b[39m(libver, \u001b[38;5;28mtuple\u001b[39m):\n\u001b[32m    564\u001b[39m     \u001b[38;5;28mself\u001b[39m._libver = libver\n",
      "\u001b[36mFile \u001b[39m\u001b[32m~/Documents/Biomech/sleap-comfort-analysis/.conda/lib/python3.11/site-packages/h5py/_hl/files.py:235\u001b[39m, in \u001b[36mmake_fid\u001b[39m\u001b[34m(name, mode, userblock_size, fapl, fcpl, swmr)\u001b[39m\n\u001b[32m    233\u001b[39m     \u001b[38;5;28;01mif\u001b[39;00m swmr \u001b[38;5;129;01mand\u001b[39;00m swmr_support:\n\u001b[32m    234\u001b[39m         flags |= h5f.ACC_SWMR_READ\n\u001b[32m--> \u001b[39m\u001b[32m235\u001b[39m     fid = \u001b[43mh5f\u001b[49m\u001b[43m.\u001b[49m\u001b[43mopen\u001b[49m\u001b[43m(\u001b[49m\u001b[43mname\u001b[49m\u001b[43m,\u001b[49m\u001b[43m \u001b[49m\u001b[43mflags\u001b[49m\u001b[43m,\u001b[49m\u001b[43m \u001b[49m\u001b[43mfapl\u001b[49m\u001b[43m=\u001b[49m\u001b[43mfapl\u001b[49m\u001b[43m)\u001b[49m\n\u001b[32m    236\u001b[39m \u001b[38;5;28;01melif\u001b[39;00m mode == \u001b[33m'\u001b[39m\u001b[33mr+\u001b[39m\u001b[33m'\u001b[39m:\n\u001b[32m    237\u001b[39m     fid = h5f.open(name, h5f.ACC_RDWR, fapl=fapl)\n",
      "\u001b[36mFile \u001b[39m\u001b[32mh5py/_objects.pyx:54\u001b[39m, in \u001b[36mh5py._objects.with_phil.wrapper\u001b[39m\u001b[34m()\u001b[39m\n",
      "\u001b[36mFile \u001b[39m\u001b[32mh5py/_objects.pyx:55\u001b[39m, in \u001b[36mh5py._objects.with_phil.wrapper\u001b[39m\u001b[34m()\u001b[39m\n",
      "\u001b[36mFile \u001b[39m\u001b[32mh5py/h5f.pyx:102\u001b[39m, in \u001b[36mh5py.h5f.open\u001b[39m\u001b[34m()\u001b[39m\n",
      "\u001b[31mIsADirectoryError\u001b[39m: [Errno 21] Unable to synchronously open file (file read failed: time = Mon May 26 16:52:11 2025\n, filename = 'files/', file descriptor = 73, errno = 21, error message = 'Is a directory', buf = 0x16ee645d0, total read size = 8, bytes this sub-read = 8, offset = 0)"
     ]
    }
   ],
   "source": [
    "session_name = SLEAP_Analysis(f\"files/{filename}\", start, end, framerate, threshold)\n",
    "data = session_name.analyze()\n",
    "print(data['lgaitdown']) # TODO this some bs\n",
    "print('\\nRIGHT FOOT')\n",
    "print(data['rgaitdown'])"
   ]
  }
 ],
 "metadata": {
  "kernelspec": {
   "display_name": "Python 3",
   "language": "python",
   "name": "python3"
  },
  "language_info": {
   "codemirror_mode": {
    "name": "ipython",
    "version": 3
   },
   "file_extension": ".py",
   "mimetype": "text/x-python",
   "name": "python",
   "nbconvert_exporter": "python",
   "pygments_lexer": "ipython3",
   "version": "3.11.11"
  }
 },
 "nbformat": 4,
 "nbformat_minor": 5
}
